{
  "cells": [
    {
      "cell_type": "markdown",
      "metadata": {
        "id": "view-in-github",
        "colab_type": "text"
      },
      "source": [
        "<a href=\"https://colab.research.google.com/github/hiteshmali45/Bike_Rent_OOPs_Project/blob/main/Bike_Rent_OOPs_Project_.ipynb\" target=\"_parent\"><img src=\"https://colab.research.google.com/assets/colab-badge.svg\" alt=\"Open In Colab\"/></a>"
      ]
    },
    {
      "cell_type": "markdown",
      "id": "303d18ca",
      "metadata": {
        "id": "303d18ca"
      },
      "source": [
        "## OOP project"
      ]
    },
    {
      "cell_type": "markdown",
      "id": "5cada111",
      "metadata": {
        "id": "5cada111"
      },
      "source": [
        "A Bike Rental System\n",
        "\n",
        "A full fledged bike rental system implemented in Python using object oriented programming.\n",
        "\n",
        "Customers can see available bikes on the shop.\n",
        "Rent bikes on daily basis Rs.100 per day.\n",
        "Rent bikes on weekly basis Rs.500 per week.\n",
        "Family Rental, a promotion that can include from 3 to 5 Rentals (of any type) with a discount of 30% of the total price.\n",
        "\n",
        "The bike rental shop can issue a bill when customer decides to return the bike,\n",
        "display available inventory ,take requests on daily and weekly basis by cross verifying stock.\n",
        "\n",
        "For simplicity we assume that\n",
        "Any customer requests rentals of only one type i.e daily or weekly and is free to choose the number of bikes he/she wants.\n",
        "Requested bikes should be less than available stock."
      ]
    },
    {
      "cell_type": "code",
      "execution_count": null,
      "id": "81b2891a",
      "metadata": {
        "id": "81b2891a"
      },
      "outputs": [],
      "source": []
    },
    {
      "cell_type": "markdown",
      "id": "abae9162",
      "metadata": {
        "id": "abae9162"
      },
      "source": [
        "## Step 1\n",
        "\n",
        "Create a parent class `BikeRental`. Define `stock` as `class attribute` and assign value 100 to it.\n",
        "\n",
        "This class should not take any other attribute and when the object is created, it should display the message \"Welcome to rental bike shop.\"\n",
        "\n",
        "Define a method `displaystock` inside this class and when this method is called, it should display the total number of stock available."
      ]
    },
    {
      "cell_type": "code",
      "execution_count": null,
      "id": "8816e06c",
      "metadata": {
        "colab": {
          "base_uri": "https://localhost:8080/"
        },
        "id": "8816e06c",
        "outputId": "c016e9af-c4af-4511-c6bc-127a9ad90063"
      },
      "outputs": [
        {
          "output_type": "stream",
          "name": "stdout",
          "text": [
            "Welcome to rental bike shop.\n"
          ]
        }
      ],
      "source": [
        "## your code goes here ##\n",
        "class BikeRental():\n",
        "    stock=100\n",
        "    print(\"Welcome to rental bike shop.\")\n",
        "    def displaystock(self):\n",
        "        print(f\"Total No. Of Stock Is Available : {self.stock}\")\n"
      ]
    },
    {
      "cell_type": "markdown",
      "id": "2ca3fb5c",
      "metadata": {
        "id": "2ca3fb5c"
      },
      "source": [
        "Create an object `bike_shop` of above class."
      ]
    },
    {
      "cell_type": "code",
      "execution_count": null,
      "id": "5184fc96",
      "metadata": {
        "id": "5184fc96"
      },
      "outputs": [],
      "source": [
        "## your code goes here ##"
      ]
    },
    {
      "cell_type": "code",
      "execution_count": null,
      "id": "ef59df60",
      "metadata": {
        "id": "ef59df60"
      },
      "outputs": [],
      "source": [
        "bike_shop=BikeRental()"
      ]
    },
    {
      "cell_type": "markdown",
      "id": "73d006a8",
      "metadata": {
        "id": "73d006a8"
      },
      "source": [
        "Check if above created object can access the `class attribute` `stock`."
      ]
    },
    {
      "cell_type": "code",
      "execution_count": null,
      "id": "a96da206",
      "metadata": {
        "scrolled": true,
        "id": "a96da206"
      },
      "outputs": [],
      "source": [
        "## your code goes here ##"
      ]
    },
    {
      "cell_type": "code",
      "execution_count": null,
      "id": "4460bd03",
      "metadata": {
        "colab": {
          "base_uri": "https://localhost:8080/"
        },
        "id": "4460bd03",
        "outputId": "d348bb45-4c48-4012-b087-34f4d76d2b97"
      },
      "outputs": [
        {
          "output_type": "stream",
          "name": "stdout",
          "text": [
            "Total No. Of Stock Is Available : 100\n"
          ]
        }
      ],
      "source": [
        "bike_shop.displaystock()"
      ]
    },
    {
      "cell_type": "markdown",
      "id": "a702f97d",
      "metadata": {
        "id": "a702f97d"
      },
      "source": [
        "Call the method `displaystock` using above created object `bike_shop`."
      ]
    },
    {
      "cell_type": "code",
      "execution_count": null,
      "id": "c4dc35b0",
      "metadata": {
        "id": "c4dc35b0"
      },
      "outputs": [],
      "source": [
        "## your code goes here ##\n"
      ]
    },
    {
      "cell_type": "code",
      "execution_count": null,
      "id": "6a859671",
      "metadata": {
        "id": "6a859671"
      },
      "outputs": [],
      "source": []
    },
    {
      "cell_type": "markdown",
      "id": "d3a33de1",
      "metadata": {
        "id": "d3a33de1"
      },
      "source": [
        "## Step 2\n",
        "\n",
        "Create a derived class `Customer` to inherit the methods from `BikeRental` class.\n",
        "Define `bill` as `class attribute`and set it's initial value as zero.\n",
        "\n",
        "This class has `number_of_bikes`, `rentalBasis` (daily or weekly) and `number_of_days_or_weeks` as attributes."
      ]
    },
    {
      "cell_type": "code",
      "execution_count": null,
      "id": "50196270",
      "metadata": {
        "id": "50196270"
      },
      "outputs": [],
      "source": [
        "## your code goes here ##\n",
        "class Customer(BikeRental):\n",
        "    bill=0\n",
        "    def __init__(self,number_of_bikes,rentalBasis,number_of_days_or_weeks):\n",
        "            self.number_of_bikes=number_of_bikes\n",
        "            self.rentalBasis=rentalBasis\n",
        "            self.number_of_days_or_weeks=number_of_days_or_weeks\n",
        "\n"
      ]
    },
    {
      "cell_type": "markdown",
      "id": "98a400fe",
      "metadata": {
        "id": "98a400fe"
      },
      "source": [
        "Define a function `rentBike`, it should have following conditions:\n",
        "\n",
        "- if `number_of_bikes` is less than or equal to zero, it should display the message \"Number of bikes should be positive!\".\n",
        "\n",
        "- if `number_of_bikes` is greater than the `stock`, it should display the `number_of_bikes` available to rent.\n",
        "\n",
        "- Otherwise display the total `number_of_bikes` rented by the customer. Do not forget to update the value of `stock` i.e. subtract the `number_of_bikes` rented from stock and display the updated `stock`."
      ]
    },
    {
      "cell_type": "code",
      "execution_count": null,
      "id": "0f15d993",
      "metadata": {
        "id": "0f15d993"
      },
      "outputs": [],
      "source": [
        "## your code goes here ##"
      ]
    },
    {
      "cell_type": "code",
      "execution_count": null,
      "id": "e66fb261",
      "metadata": {
        "id": "e66fb261"
      },
      "outputs": [],
      "source": [
        "def rentBike(self):\n",
        "    if self.number_of_bikes<=0:\n",
        "        return\"Number of bikes should be positive!\"\n",
        "    elif self.number_of_bikes>BikeRental.stock:\n",
        "        return f\"{self.number_of_bikes} Available To Rent.\"\n",
        "    else:\n",
        "        BikeRental.stock-=self.number_of_bikes\n",
        "        return f\"The Updated Stock is : {BikeRental.stock}\""
      ]
    },
    {
      "cell_type": "markdown",
      "id": "cb22ec0f",
      "metadata": {
        "id": "cb22ec0f"
      },
      "source": [
        "Define a function `returnBike` to return the total bill of customer.\n",
        "- Check if `rentalBasis` is ' daily ' or ' weekly ' and accordingly calculate the bill. Rent on ' daily ' basis is Rs. 100 per bike and for ' weekly ' basis it is Rs. 500 per bike.\n",
        "\n",
        "- If `number_of_bikes` rented by customer is between 3 to 5 (both values inclusive), 30% discount is offered on total bill. So it should display the message \"You are eligible for Family rental promotion of 30% discount\"."
      ]
    },
    {
      "cell_type": "code",
      "execution_count": null,
      "id": "48be1e59",
      "metadata": {
        "id": "48be1e59"
      },
      "outputs": [],
      "source": [
        "## your code goes here ##"
      ]
    },
    {
      "cell_type": "code",
      "source": [],
      "metadata": {
        "id": "3pDautpdUov5"
      },
      "id": "3pDautpdUov5",
      "execution_count": null,
      "outputs": []
    },
    {
      "cell_type": "code",
      "execution_count": null,
      "id": "29935c98",
      "metadata": {
        "id": "29935c98"
      },
      "outputs": [],
      "source": [
        "def returnBike(self):\n",
        "    if self.rentalBasis=='day' :\n",
        "        bill = 100*self.number_of_bikes\n",
        "        return f'Bill By daily : {bill}'\n",
        "    elif self.rentalBasis=='week':\n",
        "        bill = 500*self.number_of_bikes\n",
        "        return f'Bill By Weekly : {Bill}'\n",
        "    elif self.number_of_bikes>=3 and self.number_of_bikes<=5:\n",
        "        bill= bill*0.30-bill/self.number_of_bikes\n",
        "        return f\"You are eligible for Family rental promotion of 30% discount : {bill}\""
      ]
    },
    {
      "cell_type": "markdown",
      "id": "fa66397a",
      "metadata": {
        "id": "fa66397a"
      },
      "source": [
        "## Step 3\n",
        "\n",
        "Write complete `Customer` class using above defined functions `returnBike` and `rentBike` inside it as methods."
      ]
    },
    {
      "cell_type": "code",
      "execution_count": null,
      "id": "e1c7c3f5",
      "metadata": {
        "id": "e1c7c3f5"
      },
      "outputs": [],
      "source": [
        "## your code goes here ##\n",
        "class Customer(BikeRental):\n",
        "   bill=0\n",
        "   def __init__(self,number_of_bikes,rentalBasis,number_of_days_or_weeks):\n",
        "            self.number_of_bikes=number_of_bikes\n",
        "            self.rentalBasis=rentalBasis\n",
        "            self.number_of_days_or_weeks=number_of_days_or_weeks\n",
        "   def rentBike(self):\n",
        "        if self.number_of_bikes<=0:\n",
        "            return\"Number of bikes should be positive!\"\n",
        "        elif self.number_of_bikes>BikeRental.stock:\n",
        "            return f\"{BikeRental.stock} Available To Rent.\"\n",
        "        else:\n",
        "            BikeRental.stock-=self.number_of_bikes\n",
        "            return f\"The Updated Stock is : {BikeRental.stock}\"\n",
        "   def returnBike(self,rentalBasis):\n",
        "        self.rentalBasis=rentalBasis\n",
        "        if self.rentalBasis=='day' :\n",
        "            if self.number_of_bikes>=3 and self.number_of_bikes<=5:\n",
        "                bill = 100*self.number_of_bikes*self.number_of_days_or_weeks\n",
        "                bill-= bill*0.3\n",
        "                print(f\"You are eligible for Family rental promotion of 30% discount : {bill}\")\n",
        "            else:\n",
        "                bill = 100*self.number_of_bikes*self.number_of_days_or_weeks\n",
        "                return f'Bill By daily : {bill}'\n",
        "        elif self.rentalBasis=='week':\n",
        "            if self.number_of_bikes>=3 and self.number_of_bikes<=5:\n",
        "                bill =500*self.number_of_bikes*self.number_of_days_or_weeks\n",
        "                bill-= bill*0.3\n",
        "                print(f\"You are eligible for Family rental promotion of 30% discount : {bill}\")\n",
        "            else:\n",
        "                bill =500*self.number_of_bikes*self.number_of_days_or_weeks\n",
        "                return f'Bill By Weekly : {bill}'"
      ]
    },
    {
      "cell_type": "code",
      "execution_count": null,
      "id": "b8753564",
      "metadata": {
        "id": "b8753564"
      },
      "outputs": [],
      "source": []
    },
    {
      "cell_type": "markdown",
      "id": "dea7483f",
      "metadata": {
        "id": "dea7483f"
      },
      "source": [
        "## Step 4\n",
        "\n",
        "Check your `Bike Rental System` for test-case objects given below :\n",
        "\n",
        "For first four customers - check all the three attribute values and call `rentBike` and `returnBike` methods.\n",
        "\n",
        "- customer_1 = Customer(2,'day',5)\n",
        "\n",
        "- customer_2 = Customer(1,'week',3)\n",
        "\n",
        "- customer_3 = Customer(4,'day',3)  - Is family discount applicable here ?\n",
        "\n",
        "- customer_4 = Customer(3,'week',3) - Is family discount applicable here ?\n",
        "\n",
        "Call `rentBike` and `displaystock` methods for test-case objects given below :\n",
        "\n",
        "- customer_5 = Customer(120,'week',3)\n",
        "\n",
        "- customer_6 = Customer(0,'week',3)\n",
        "\n",
        "- customer_7 = Customer(-5,'week',3)\n",
        "\n",
        "- customer_8 = Customer(1,'day',3)"
      ]
    },
    {
      "cell_type": "code",
      "execution_count": null,
      "id": "40d0a7aa",
      "metadata": {
        "colab": {
          "base_uri": "https://localhost:8080/"
        },
        "id": "40d0a7aa",
        "outputId": "dff07a4d-dcd6-4483-becb-d13f04381c61"
      },
      "outputs": [
        {
          "output_type": "stream",
          "name": "stdout",
          "text": [
            "The Updated Stock is : 98\n",
            "Bill By daily : 1000\n"
          ]
        }
      ],
      "source": [
        "## your code goes here ##\n",
        "Customer_1=Customer(2,'day',5)\n",
        "print(Customer_1.rentBike())\n",
        "print(Customer_1.returnBike('day'))\n",
        "\n",
        "\n",
        "\n"
      ]
    },
    {
      "cell_type": "code",
      "source": [
        "Customer_2 = Customer(1,'week',3)\n",
        "print(Customer_2.rentBike())\n",
        "print(Customer_2.returnBike('week'))"
      ],
      "metadata": {
        "colab": {
          "base_uri": "https://localhost:8080/"
        },
        "id": "yaiDayTAdEZj",
        "outputId": "03c20ce8-994a-49b9-971e-32cfa3c7c5ee"
      },
      "id": "yaiDayTAdEZj",
      "execution_count": null,
      "outputs": [
        {
          "output_type": "stream",
          "name": "stdout",
          "text": [
            "The Updated Stock is : 97\n",
            "Bill By Weekly : 1500\n"
          ]
        }
      ]
    },
    {
      "cell_type": "code",
      "source": [
        "Customer_3 = Customer(4,'day',3)\n",
        "print(Customer_3.rentBike())\n",
        "print(Customer_3.returnBike('day'))\n"
      ],
      "metadata": {
        "colab": {
          "base_uri": "https://localhost:8080/"
        },
        "id": "WL-ogR7_uDnC",
        "outputId": "4d019650-d666-4afb-ecd6-0f79b97142a1"
      },
      "id": "WL-ogR7_uDnC",
      "execution_count": null,
      "outputs": [
        {
          "output_type": "stream",
          "name": "stdout",
          "text": [
            "The Updated Stock is : 93\n",
            "You are eligible for Family rental promotion of 30% discount : 840.0\n",
            "None\n"
          ]
        }
      ]
    },
    {
      "cell_type": "code",
      "source": [
        "\n",
        "Customer_4 = Customer(3,'week',3)\n",
        "print(Customer_4.rentBike())\n",
        "print(Customer_4.returnBike('week'))"
      ],
      "metadata": {
        "colab": {
          "base_uri": "https://localhost:8080/"
        },
        "id": "ZOb1dy7duLkb",
        "outputId": "79d75711-5fbd-4c35-bb08-87989e65a23d"
      },
      "id": "ZOb1dy7duLkb",
      "execution_count": null,
      "outputs": [
        {
          "output_type": "stream",
          "name": "stdout",
          "text": [
            "The Updated Stock is : 90\n",
            "You are eligible for Family rental promotion of 30% discount : 3150.0\n",
            "None\n"
          ]
        }
      ]
    },
    {
      "cell_type": "code",
      "source": [
        "# Call rentBike and displaystock methods for test-case objects given below :\n",
        "\n",
        "customer_5 = Customer(120,'week',3)\n",
        "print(customer_5.rentBike())\n",
        "print(customer_5.displaystock())\n",
        "\n",
        "\n",
        "\n",
        "\n",
        "\n",
        "\n"
      ],
      "metadata": {
        "colab": {
          "base_uri": "https://localhost:8080/"
        },
        "id": "W6wo0aABuOnO",
        "outputId": "661b4703-002e-4d94-bf9f-b367fdeca115"
      },
      "id": "W6wo0aABuOnO",
      "execution_count": null,
      "outputs": [
        {
          "output_type": "stream",
          "name": "stdout",
          "text": [
            "100 Available To Rent.\n",
            "Total No. Of Stock Is Available : 100\n",
            "None\n"
          ]
        }
      ]
    },
    {
      "cell_type": "code",
      "source": [
        "customer_6 = Customer(0,'week',3)\n",
        "print(customer_6.rentBike())\n",
        "print(customer_6.displaystock())"
      ],
      "metadata": {
        "colab": {
          "base_uri": "https://localhost:8080/"
        },
        "id": "998_NMt6u0Ni",
        "outputId": "25f7daeb-51ca-42ff-d3a8-4927f83907bd"
      },
      "id": "998_NMt6u0Ni",
      "execution_count": null,
      "outputs": [
        {
          "output_type": "stream",
          "name": "stdout",
          "text": [
            "Number of bikes should be positive!\n",
            "Total No. Of Stock Is Available : 100\n",
            "None\n"
          ]
        }
      ]
    },
    {
      "cell_type": "code",
      "source": [
        "customer_7 = Customer(-5,'week',3)\n",
        "print(customer_7.rentBike())\n",
        "print(customer_7.displaystock())"
      ],
      "metadata": {
        "colab": {
          "base_uri": "https://localhost:8080/"
        },
        "id": "numj3hDJw_bT",
        "outputId": "b77aa96d-fe87-41bc-bbfd-35cbd35a33d8"
      },
      "id": "numj3hDJw_bT",
      "execution_count": null,
      "outputs": [
        {
          "output_type": "stream",
          "name": "stdout",
          "text": [
            "Number of bikes should be positive!\n",
            "Total No. Of Stock Is Available : 100\n",
            "None\n"
          ]
        }
      ]
    },
    {
      "cell_type": "code",
      "source": [
        "customer_8 = Customer(1,'day',3)\n",
        "print(customer_8.rentBike())\n",
        "print(customer_8.displaystock())"
      ],
      "metadata": {
        "colab": {
          "base_uri": "https://localhost:8080/"
        },
        "id": "f_J87GbexKnR",
        "outputId": "c1d27c81-157a-4798-c85a-a7070a4e92f2"
      },
      "id": "f_J87GbexKnR",
      "execution_count": null,
      "outputs": [
        {
          "output_type": "stream",
          "name": "stdout",
          "text": [
            "The Updated Stock is : 99\n",
            "Total No. Of Stock Is Available : 99\n",
            "None\n"
          ]
        }
      ]
    },
    {
      "cell_type": "code",
      "source": [],
      "metadata": {
        "id": "iltpR7-7xR7k"
      },
      "id": "iltpR7-7xR7k",
      "execution_count": null,
      "outputs": []
    }
  ],
  "metadata": {
    "kernelspec": {
      "display_name": "Python 3",
      "language": "python",
      "name": "python3"
    },
    "language_info": {
      "codemirror_mode": {
        "name": "ipython",
        "version": 3
      },
      "file_extension": ".py",
      "mimetype": "text/x-python",
      "name": "python",
      "nbconvert_exporter": "python",
      "pygments_lexer": "ipython3",
      "version": "3.8.8"
    },
    "colab": {
      "provenance": [],
      "include_colab_link": true
    }
  },
  "nbformat": 4,
  "nbformat_minor": 5
}